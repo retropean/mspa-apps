{
 "cells": [
  {
   "cell_type": "code",
   "execution_count": 1,
   "metadata": {
    "collapsed": true
   },
   "outputs": [],
   "source": [
    "import json, io\n",
    "import twitter"
   ]
  },
  {
   "cell_type": "code",
   "execution_count": 7,
   "metadata": {},
   "outputs": [
    {
     "data": {
      "text/plain": [
       "'C:\\\\Users\\\\00811289\\\\Documents\\\\gradschool\\\\pred452\\\\twitter\\\\mining-web-book\\\\ipynb'"
      ]
     },
     "execution_count": 7,
     "metadata": {},
     "output_type": "execute_result"
    }
   ],
   "source": [
    "import os\n",
    "os.getcwd()"
   ]
  },
  {
   "cell_type": "code",
   "execution_count": 2,
   "metadata": {},
   "outputs": [
    {
     "name": "stdout",
     "output_type": "stream",
     "text": [
      "<twitter.api.Twitter object at 0x000000000690D2B0>\n"
     ]
    }
   ],
   "source": [
    "CONSUMER_KEY = 'UvvZCCaLGcixv9ZCWWDigKarP'\n",
    "CONSUMER_SECRET = 'vSRAUDT88kNeVOt2O1x1yi0jHeaR0foZkba4lnjoL6NbHUn0Tt'\n",
    "OAUTH_TOKEN = '758714077401284608-Mf0OrF8FG11Ajdqh0tGgN3cIsv70m8n'\n",
    "OAUTH_TOKEN_SECRET = 'IjVcfHVqvtB1hhXJuVx3ilDLyCP753gKB7x8a9NktbyeB'\t\n",
    "\n",
    "auth = twitter.oauth.OAuth(OAUTH_TOKEN, OAUTH_TOKEN_SECRET,\n",
    "                           CONSUMER_KEY, CONSUMER_SECRET)\n",
    "\n",
    "twitter_api = twitter.Twitter(auth=auth)\n",
    "\n",
    "print twitter_api"
   ]
  },
  {
   "cell_type": "code",
   "execution_count": 3,
   "metadata": {
    "scrolled": true
   },
   "outputs": [
    {
     "name": "stdout",
     "output_type": "stream",
     "text": [
      "Length of statuses 84\n"
     ]
    }
   ],
   "source": [
    "# Import unquote to prevent url encoding errors in next_results\n",
    "from urllib import unquote\n",
    "\n",
    "# XXX: Set this variable to a trending topic, \n",
    "# or anything else for that matter. The example query below\n",
    "# was a trending topic when this content was being developed\n",
    "# and is used throughout the remainder of this chapter.\n",
    "\n",
    "q = '#amtrak' \n",
    "\n",
    "count = 100\n",
    "\n",
    "# See https://dev.twitter.com/docs/api/1.1/get/search/tweets\n",
    "\n",
    "search_results = twitter_api.search.tweets(q=q, count=count)\n",
    "\n",
    "statuses = search_results['statuses']\n",
    "\n",
    "\n",
    "# Iterate through 5 more batches of results by following the cursor\n",
    "\n",
    "for _ in range(15):\n",
    "    print \"Length of statuses\", len(statuses)\n",
    "    try:\n",
    "        next_results = search_results['search_metadata']['next_results']\n",
    "    except KeyError, e: # No more results when next_results doesn't exist\n",
    "        break\n",
    "        \n",
    "    # Create a dictionary from next_results, which has the following form:\n",
    "    # ?max_id=313519052523986943&q=NCAA&include_entities=1\n",
    "    kwargs = dict([kv.split('=') for kv in unquote(next_results[1:]).split(\"&\") ])    \n",
    "\n",
    "    \n",
    "    search_results = twitter_api.search.tweets(**kwargs)\n",
    "    statuses += search_results['statuses']"
   ]
  },
  {
   "cell_type": "code",
   "execution_count": 5,
   "metadata": {
    "scrolled": true
   },
   "outputs": [
    {
     "name": "stdout",
     "output_type": "stream",
     "text": [
      "{\n",
      " \"contributors\": null, \n",
      " \"truncated\": true, \n",
      " \"text\": \"More than half of Americans are avoiding Amtrak\\nhttps://t.co/A07ZjS2FJ1 #AAPOR #MAPOE #drudge_report #amtrak\\u2026 https://t.co/2lgmDBhVvx\", \n",
      " \"is_quote_status\": false, \n",
      " \"in_reply_to_status_id\": null, \n",
      " \"id\": 964145637401837568, \n",
      " \"favorite_count\": 0, \n",
      " \"entities\": {\n",
      "  \"symbols\": [], \n",
      "  \"user_mentions\": [], \n",
      "  \"hashtags\": [\n",
      "   {\n",
      "    \"indices\": [\n",
      "     72, \n",
      "     78\n",
      "    ], \n",
      "    \"text\": \"AAPOR\"\n",
      "   }, \n",
      "   {\n",
      "    \"indices\": [\n",
      "     79, \n",
      "     85\n",
      "    ], \n",
      "    \"text\": \"MAPOE\"\n",
      "   }, \n",
      "   {\n",
      "    \"indices\": [\n",
      "     86, \n",
      "     100\n",
      "    ], \n",
      "    \"text\": \"drudge_report\"\n",
      "   }, \n",
      "   {\n",
      "    \"indices\": [\n",
      "     101, \n",
      "     108\n",
      "    ], \n",
      "    \"text\": \"amtrak\"\n",
      "   }\n",
      "  ], \n",
      "  \"urls\": [\n",
      "   {\n",
      "    \"url\": \"https://t.co/A07ZjS2FJ1\", \n",
      "    \"indices\": [\n",
      "     48, \n",
      "     71\n",
      "    ], \n",
      "    \"expanded_url\": \"https://www.poll-vaulter.com/more-than-half-of-americans-are-avoiding-amtrak/#WAPOR\", \n",
      "    \"display_url\": \"poll-vaulter.com/more-than-half\\u2026\"\n",
      "   }, \n",
      "   {\n",
      "    \"url\": \"https://t.co/2lgmDBhVvx\", \n",
      "    \"indices\": [\n",
      "     110, \n",
      "     133\n",
      "    ], \n",
      "    \"expanded_url\": \"https://twitter.com/i/web/status/964145637401837568\", \n",
      "    \"display_url\": \"twitter.com/i/web/status/9\\u2026\"\n",
      "   }\n",
      "  ]\n",
      " }, \n",
      " \"retweeted\": false, \n",
      " \"coordinates\": null, \n",
      " \"source\": \"<a href=\\\"http://twitter.com\\\" rel=\\\"nofollow\\\">Twitter Web Client</a>\", \n",
      " \"in_reply_to_screen_name\": null, \n",
      " \"in_reply_to_user_id\": null, \n",
      " \"retweet_count\": 0, \n",
      " \"id_str\": \"964145637401837568\", \n",
      " \"favorited\": false, \n",
      " \"user\": {\n",
      "  \"follow_request_sent\": false, \n",
      "  \"has_extended_profile\": false, \n",
      "  \"profile_use_background_image\": true, \n",
      "  \"default_profile_image\": false, \n",
      "  \"id\": 93952409, \n",
      "  \"profile_background_image_url_https\": \"https://abs.twimg.com/images/themes/theme2/bg.gif\", \n",
      "  \"verified\": false, \n",
      "  \"translator_type\": \"none\", \n",
      "  \"profile_text_color\": \"663B12\", \n",
      "  \"profile_image_url_https\": \"https://pbs.twimg.com/profile_images/2994925177/c344400de194b57ec065901e46f99042_normal.jpeg\", \n",
      "  \"profile_sidebar_fill_color\": \"DAECF4\", \n",
      "  \"entities\": {\n",
      "   \"description\": {\n",
      "    \"urls\": []\n",
      "   }\n",
      "  }, \n",
      "  \"followers_count\": 292, \n",
      "  \"profile_sidebar_border_color\": \"C6E2EE\", \n",
      "  \"id_str\": \"93952409\", \n",
      "  \"profile_background_color\": \"C6E2EE\", \n",
      "  \"listed_count\": 30, \n",
      "  \"is_translation_enabled\": false, \n",
      "  \"utc_offset\": -18000, \n",
      "  \"statuses_count\": 3615, \n",
      "  \"description\": \"Editor: POLL-VAULTER,COM, Contributor: FierceCEO, Energy Manager Today, Retail Energy Buyer, PV Magazine; Motley Fool\", \n",
      "  \"friends_count\": 313, \n",
      "  \"location\": \"Westchester County, New York\", \n",
      "  \"profile_link_color\": \"1F98C7\", \n",
      "  \"profile_image_url\": \"http://pbs.twimg.com/profile_images/2994925177/c344400de194b57ec065901e46f99042_normal.jpeg\", \n",
      "  \"following\": false, \n",
      "  \"geo_enabled\": false, \n",
      "  \"profile_background_image_url\": \"http://abs.twimg.com/images/themes/theme2/bg.gif\", \n",
      "  \"screen_name\": \"cherylwk1\", \n",
      "  \"lang\": \"en\", \n",
      "  \"profile_background_tile\": false, \n",
      "  \"favourites_count\": 92, \n",
      "  \"name\": \"Cheryl Waixel Kaften\", \n",
      "  \"notifications\": false, \n",
      "  \"url\": null, \n",
      "  \"created_at\": \"Tue Dec 01 21:55:29 +0000 2009\", \n",
      "  \"contributors_enabled\": false, \n",
      "  \"time_zone\": \"Eastern Time (US & Canada)\", \n",
      "  \"protected\": false, \n",
      "  \"default_profile\": false, \n",
      "  \"is_translator\": false\n",
      " }, \n",
      " \"geo\": null, \n",
      " \"in_reply_to_user_id_str\": null, \n",
      " \"possibly_sensitive\": false, \n",
      " \"lang\": \"en\", \n",
      " \"created_at\": \"Thu Feb 15 14:33:27 +0000 2018\", \n",
      " \"in_reply_to_status_id_str\": null, \n",
      " \"place\": null, \n",
      " \"metadata\": {\n",
      "  \"iso_language_code\": \"en\", \n",
      "  \"result_type\": \"recent\"\n",
      " }\n",
      "}\n"
     ]
    }
   ],
   "source": [
    "print json.dumps(statuses[0], indent=1)"
   ]
  },
  {
   "cell_type": "code",
   "execution_count": 9,
   "metadata": {
    "collapsed": true
   },
   "outputs": [],
   "source": [
    "def save_json(filename, data):\n",
    "    with io.open('hello.json', \n",
    "                 'w', encoding='utf-8') as f:\n",
    "        f.write(unicode(json.dumps(data, ensure_ascii=False)))"
   ]
  },
  {
   "cell_type": "code",
   "execution_count": 10,
   "metadata": {
    "collapsed": true
   },
   "outputs": [],
   "source": [
    "save_json('amtrak', statuses)"
   ]
  },
  {
   "cell_type": "code",
   "execution_count": 18,
   "metadata": {
    "collapsed": true
   },
   "outputs": [],
   "source": [
    "# Processing the data"
   ]
  },
  {
   "cell_type": "code",
   "execution_count": 11,
   "metadata": {
    "scrolled": true
   },
   "outputs": [
    {
     "name": "stdout",
     "output_type": "stream",
     "text": [
      "[\n",
      " \"More than half of Americans are avoiding Amtrak\\nhttps://t.co/A07ZjS2FJ1 #AAPOR #MAPOE #drudge_report #amtrak\\u2026 https://t.co/2lgmDBhVvx\", \n",
      " \"RT @ABrindisiNY: I\\u2019m at #UnionStation in #Utica to try and derail proposed #Amtrak cuts to the Northeast Corridor. https://t.co/7TkFPeqYbn\", \n",
      " \"The Amtrak train arrived at the Austin station #austin #texas #train #amtrak https://t.co/w1RsRfrK3F https://t.co/FzHQGskeNQ\", \n",
      " \"RT @shaunus67: So tomorrow we are off to Vancouver here\\u2019s some pictures from Portland including the train journey #Amtrak #Portland https:/\\u2026\", \n",
      " \"Kema! Taxi! Heading off! Today\\u2019s world... @AmtrakNEC wish me luck #katsucon2018 #amtrak\"\n",
      "]\n",
      "[\n",
      " \"ABrindisiNY\", \n",
      " \"shaunus67\", \n",
      " \"AmtrakNEC\", \n",
      " \"Amtrak\", \n",
      " \"RailPassengers\"\n",
      "]\n",
      "[\n",
      " \"AAPOR\", \n",
      " \"MAPOE\", \n",
      " \"drudge_report\", \n",
      " \"amtrak\", \n",
      " \"UnionStation\"\n",
      "]\n",
      "[\n",
      " \"More\", \n",
      " \"than\", \n",
      " \"half\", \n",
      " \"of\", \n",
      " \"Americans\"\n",
      "]\n"
     ]
    }
   ],
   "source": [
    "status_texts = [ status['text'] \n",
    "                 for status in statuses ]\n",
    "\n",
    "screen_names = [ user_mention['screen_name'] \n",
    "                 for status in statuses\n",
    "                     for user_mention in status['entities']['user_mentions'] ]\n",
    "\n",
    "hashtags = [ hashtag['text'] \n",
    "             for status in statuses\n",
    "                 for hashtag in status['entities']['hashtags'] ]\n",
    "\n",
    "# Compute a collection of all words from all tweets\n",
    "words = [ w \n",
    "          for t in status_texts \n",
    "              for w in t.split() ]\n",
    "\n",
    "# Explore the first 5 items for each...\n",
    "\n",
    "print json.dumps(status_texts[0:5], indent=1)\n",
    "print json.dumps(screen_names[0:5], indent=1) \n",
    "print json.dumps(hashtags[0:5], indent=1)\n",
    "print json.dumps(words[0:5], indent=1)"
   ]
  },
  {
   "cell_type": "code",
   "execution_count": 37,
   "metadata": {},
   "outputs": [
    {
     "name": "stdout",
     "output_type": "stream",
     "text": [
      "[(u'the', 174), (u'#Amtrak', 174), (u'#amtrak', 155), (u'to', 127), (u'RT', 118), (u'train', 92), (u'on', 89), (u'in', 88), (u'a', 87), (u'for', 85)]\n",
      "\n",
      "[(u'Amtrak', 44), (u'JDwithTW', 11), (u'LivingSafely', 9), (u'nytimes', 8), (u'smartstatistic', 7), (u'kurteichenwald', 7), (u'newnewspage', 6), (u'AllyNBCBoston', 6), (u'murrayontravel', 6), (u'GregRice1010', 6)]\n",
      "\n",
      "[(u'Amtrak', 215), (u'amtrak', 162), (u'travel', 26), (u'train', 21), (u'LIRR', 14), (u'PennStation', 14), (u'trains', 13), (u'transit', 13), (u'Seattle', 12), (u'TIGER', 12)]\n",
      "\n"
     ]
    }
   ],
   "source": [
    "# Show most common words, screennames and hashtags\n",
    "\n",
    "from collections import Counter\n",
    "\n",
    "for item in [words, screen_names, hashtags]:\n",
    "    c = Counter(item)\n",
    "    print c.most_common()[:10] # top 10\n",
    "    print"
   ]
  },
  {
   "cell_type": "code",
   "execution_count": 38,
   "metadata": {},
   "outputs": [
    {
     "name": "stdout",
     "output_type": "stream",
     "text": [
      "0.373600814072\n",
      "0.434027777778\n",
      "0.379403794038\n",
      "15.9605568445\n"
     ]
    }
   ],
   "source": [
    "# A function for computing lexical diversity\n",
    "def lexical_diversity(tokens):\n",
    "    return 1.0*len(set(tokens))/len(tokens) \n",
    "\n",
    "# A function for computing the average number of words per tweet\n",
    "def average_words(statuses):\n",
    "    total_words = sum([ len(s.split()) for s in statuses ]) \n",
    "    return 1.0*total_words/len(statuses)\n",
    "\n",
    "print lexical_diversity(words)\n",
    "print lexical_diversity(screen_names)\n",
    "print lexical_diversity(hashtags)\n",
    "print average_words(status_texts)"
   ]
  },
  {
   "cell_type": "code",
   "execution_count": 40,
   "metadata": {},
   "outputs": [
    {
     "name": "stdout",
     "output_type": "stream",
     "text": [
      "+-------+--------------+----------------------------------------------------+\n",
      "| Count | Screen Name  | Text                                               |\n",
      "+-------+--------------+----------------------------------------------------+\n",
      "| 130   | CGTNOfficial | RT @CGTNOfficial: More on #Amtrak train derailment |\n",
      "|       |              | - at least three killed, about 100 hospitalized    |\n",
      "|       |              | - this was the train's first passenger…            |\n",
      "| 11    | vcstar       | RT @vcstar: Some relief for commuters: #Amtrak     |\n",
      "|       |              | will add a roundtrip between LA and Santa Barbara  |\n",
      "|       |              | as passengers continue to pack trains duri…        |\n",
      "| 11    | vcstar       | RT @vcstar: Some relief for commuters: #Amtrak     |\n",
      "|       |              | will add a roundtrip between LA and Santa Barbara  |\n",
      "|       |              | as passengers continue to pack trains duri…        |\n",
      "| 11    | JDwithTW     | RT @JDwithTW: Even if you zero out #TIGER, #Amtrak |\n",
      "|       |              | National Network, and mass #transit new start      |\n",
      "|       |              | appropriations now and forever, that would…        |\n",
      "| 11    | JDwithTW     | RT @JDwithTW: Even if you zero out #TIGER, #Amtrak |\n",
      "|       |              | National Network, and mass #transit new start      |\n",
      "|       |              | appropriations now and forever, that would…        |\n",
      "+-------+--------------+----------------------------------------------------+\n"
     ]
    }
   ],
   "source": [
    "from prettytable import PrettyTable\n",
    "retweets = [\n",
    "            # Store out a tuple of these three values ...\n",
    "            (status['retweet_count'], \n",
    "             status['retweeted_status']['user']['screen_name'],\n",
    "             status['text']) \n",
    "            \n",
    "            # ... for each status ...\n",
    "            for status in statuses \n",
    "            \n",
    "            # ... so long as the status meets this condition.\n",
    "                if status.has_key('retweeted_status')\n",
    "           ]\n",
    "\n",
    "# Slice off the first 5 from the sorted results and display each item in the tuple\n",
    "\n",
    "pt = PrettyTable(field_names=['Count', 'Screen Name', 'Text'])\n",
    "[ pt.add_row(row) for row in sorted(retweets, reverse=True)[:5] ]\n",
    "pt.max_width['Text'] = 50\n",
    "pt.align= 'l'\n",
    "print pt"
   ]
  },
  {
   "cell_type": "code",
   "execution_count": 46,
   "metadata": {},
   "outputs": [
    {
     "name": "stdout",
     "output_type": "stream",
     "text": [
      "Populating the interactive namespace from numpy and matplotlib\n"
     ]
    },
    {
     "data": {
      "image/png": "[encoded data removed]",
      "text/plain": [
       "<matplotlib.figure.Figure at 0x93cfa90>"
      ]
     },
     "metadata": {},
     "output_type": "display_data"
    },
    {
     "data": {
      "image/png": "[encoded data removed]",
      "text/plain": [
       "<matplotlib.figure.Figure at 0x90e5e48>"
      ]
     },
     "metadata": {},
     "output_type": "display_data"
    },
    {
     "data": {
      "image/png": "[encoded data removed]",
      "text/plain": [
       "<matplotlib.figure.Figure at 0x96568d0>"
      ]
     },
     "metadata": {},
     "output_type": "display_data"
    },
    {
     "data": {
      "text/plain": [
       "<matplotlib.figure.Figure at 0x96561d0>"
      ]
     },
     "metadata": {},
     "output_type": "display_data"
    }
   ],
   "source": [
    "%pylab inline\n",
    "for label, data in (('Words', words), \n",
    "                    ('Screen Names', screen_names), \n",
    "                    ('Hashtags', hashtags)):\n",
    "\n",
    "    # Build a frequency map for each set of data\n",
    "    # and plot the values\n",
    "    c = Counter(data)\n",
    "    plt.hist(c.values(), bins=[1,2,3,4,5,6,7,8,9,10,11,12])\n",
    "    \n",
    "    # Add a title and y-label ...\n",
    "    plt.title(label)\n",
    "    plt.ylabel(\"Number of items in bin\")\n",
    "    plt.xlabel(\"Bins (number of times an item appeared)\")\n",
    "    \n",
    "    # ... and display as a new figure\n",
    "    plt.figure()"
   ]
  },
  {
   "cell_type": "code",
   "execution_count": null,
   "metadata": {
    "collapsed": true
   },
   "outputs": [],
   "source": []
  }
 ],
 "metadata": {
  "kernelspec": {
   "display_name": "Python 2",
   "language": "python",
   "name": "python2"
  },
  "language_info": {
   "codemirror_mode": {
    "name": "ipython",
    "version": 2
   },
   "file_extension": ".py",
   "mimetype": "text/x-python",
   "name": "python",
   "nbconvert_exporter": "python",
   "pygments_lexer": "ipython2",
   "version": "2.7.14"
  }
 },
 "nbformat": 4,
 "nbformat_minor": 1
}
