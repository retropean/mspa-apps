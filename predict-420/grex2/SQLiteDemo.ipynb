{
 "cells": [
  {
   "cell_type": "code",
   "execution_count": 1,
   "metadata": {
    "collapsed": true
   },
   "outputs": [],
   "source": [
    "import sqlalchemy\n",
    "import sqlite3"
   ]
  },
  {
   "cell_type": "code",
   "execution_count": 11,
   "metadata": {
    "collapsed": false
   },
   "outputs": [],
   "source": [
    "conn = sqlite3.connect('example.db')"
   ]
  },
  {
   "cell_type": "code",
   "execution_count": 3,
   "metadata": {
    "collapsed": false
   },
   "outputs": [
    {
     "ename": "OperationalError",
     "evalue": "table person already exists",
     "output_type": "error",
     "traceback": [
      "\u001b[1;31m---------------------------------------------------------------------------\u001b[0m",
      "\u001b[1;31mOperationalError\u001b[0m                          Traceback (most recent call last)",
      "\u001b[1;32m<ipython-input-3-bb847a0e1b12>\u001b[0m in \u001b[0;36m<module>\u001b[1;34m()\u001b[0m\n\u001b[0;32m      3\u001b[0m          \u001b[0mCREATE\u001b[0m \u001b[0mTABLE\u001b[0m \u001b[0mperson\u001b[0m\u001b[1;33m\u001b[0m\u001b[0m\n\u001b[0;32m      4\u001b[0m          \u001b[1;33m(\u001b[0m\u001b[0mid\u001b[0m \u001b[0mINTEGER\u001b[0m \u001b[0mPRIMARY\u001b[0m \u001b[0mKEY\u001b[0m \u001b[0mASC\u001b[0m\u001b[1;33m,\u001b[0m \u001b[0mname\u001b[0m \u001b[0mvarchar\u001b[0m\u001b[1;33m(\u001b[0m\u001b[1;36m250\u001b[0m\u001b[1;33m)\u001b[0m \u001b[0mNOT\u001b[0m \u001b[0mNULL\u001b[0m\u001b[1;33m)\u001b[0m\u001b[1;33m\u001b[0m\u001b[0m\n\u001b[1;32m----> 5\u001b[1;33m          ''')\n\u001b[0m\u001b[0;32m      6\u001b[0m c.execute('''\n\u001b[0;32m      7\u001b[0m           \u001b[0mCREATE\u001b[0m \u001b[0mTABLE\u001b[0m \u001b[0maddress\u001b[0m\u001b[1;33m\u001b[0m\u001b[0m\n",
      "\u001b[1;31mOperationalError\u001b[0m: table person already exists"
     ]
    }
   ],
   "source": [
    "# CREATE DATABASE\n",
    "c = conn.cursor()\n",
    "c.execute('''\n",
    "         CREATE TABLE person\n",
    "         (id INTEGER PRIMARY KEY ASC, name varchar(250) NOT NULL)\n",
    "         ''')\n",
    "c.execute('''\n",
    "          CREATE TABLE address\n",
    "          (id INTEGER PRIMARY KEY ASC, street_name varchar(250), street_number varchar(250),\n",
    "          post_code varchar(250) NOT NULL, person_id INTEGER NOT NULL,\n",
    "          FOREIGN KEY(person_id) REFERENCES person(id))\n",
    "          ''')\n",
    "conn.commit()\n",
    "conn.close()"
   ]
  },
  {
   "cell_type": "code",
   "execution_count": 6,
   "metadata": {
    "collapsed": true
   },
   "outputs": [],
   "source": [
    "# INSERT INTO DATABASE\n",
    "c.execute('''\n",
    "          INSERT INTO person VALUES(1, 'pythoncentral')\n",
    "          ''')\n",
    "c.execute('''\n",
    "          INSERT INTO address VALUES(1, 'python road', '1', '00000', 1)\n",
    "          ''')\n",
    "conn.commit()\n",
    "conn.close()"
   ]
  },
  {
   "cell_type": "code",
   "execution_count": 14,
   "metadata": {
    "collapsed": false
   },
   "outputs": [
    {
     "name": "stdout",
     "output_type": "stream",
     "text": [
      "[(1, u'pythoncentral')]\n",
      "[(1, u'python road', u'1', u'00000', 1)]\n"
     ]
    }
   ],
   "source": [
    "c = conn.cursor()\n",
    "c.execute('SELECT * FROM person')\n",
    "print c.fetchall()\n",
    "c.execute('SELECT * FROM address')\n",
    "print c.fetchall()"
   ]
  },
  {
   "cell_type": "code",
   "execution_count": null,
   "metadata": {
    "collapsed": true
   },
   "outputs": [],
   "source": []
  }
 ],
 "metadata": {
  "kernelspec": {
   "display_name": "Python 2",
   "language": "python",
   "name": "python2"
  },
  "language_info": {
   "codemirror_mode": {
    "name": "ipython",
    "version": 2
   },
   "file_extension": ".py",
   "mimetype": "text/x-python",
   "name": "python",
   "nbconvert_exporter": "python",
   "pygments_lexer": "ipython2",
   "version": "2.7.13"
  }
 },
 "nbformat": 4,
 "nbformat_minor": 0
}
