{
 "cells": [
  {
   "cell_type": "code",
   "execution_count": 34,
   "metadata": {
    "collapsed": false
   },
   "outputs": [],
   "source": [
    "from bs4 import BeautifulSoup\n",
    "import os\n",
    "import re"
   ]
  },
  {
   "cell_type": "markdown",
   "metadata": {},
   "source": [
    "First, load the file by making sure you're in the right directory and then importing as such. Then find the text you want. Seems to be conveniently surrounded by paragraph tags."
   ]
  },
  {
   "cell_type": "code",
   "execution_count": 8,
   "metadata": {
    "collapsed": false
   },
   "outputs": [
    {
     "data": {
      "text/plain": [
       "'C:\\\\Users\\\\00811289\\\\Documents\\\\pred420\\\\grex3'"
      ]
     },
     "execution_count": 8,
     "metadata": {},
     "output_type": "execute_result"
    }
   ],
   "source": [
    "os.getcwd()"
   ]
  },
  {
   "cell_type": "code",
   "execution_count": 11,
   "metadata": {
    "collapsed": true
   },
   "outputs": [],
   "source": [
    "with open(\"privacy.html\") as priv:\n",
    "    soup = BeautifulSoup(priv)"
   ]
  },
  {
   "cell_type": "code",
   "execution_count": 33,
   "metadata": {
    "collapsed": false
   },
   "outputs": [
    {
     "name": "stdout",
     "output_type": "stream",
     "text": [
      "tainer\">\n",
      "   <div class=\"wrapper clearfix\" id=\"main\">\n",
      "    <article>\n",
      "     <header>\n",
      "      <h1>\n",
      "       Privacy\n",
      "      </h1>\n",
      "     </header>\n",
      "     <section>\n",
      "      <h2>\n",
      "       Our Policy regarding what we may know about you\n",
      "      </h2>\n",
      "      <p>\n",
      "       We sometimes obtain data from people who use our community sites or blogs, or who assist in compiling data for research on management or policy decision-making. Here is how we take care of this information and protect the privacy of those who provide it.\n",
      "      </p>\n",
      "      <p>\n",
      "       <strong>\n",
      "        Information\n",
      "       </strong>\n",
      "       . While doing what we do we may obtain information from individuals who have agreed to provide it to us for some specific purpose, like for understanding what is valuable for consumers, companies, nonprofits, or governments. We may also use cookies, a means of identifying particular computers so as to enhance the experience of web site users. This information may be what's called \"personally identifiable information\" (PII).\n",
      "      </p>\n",
      "      <p>\n",
      "       There are various definitions of PII, but what it is is information that can be connected to a person's natural identity.\n",
      "      </p>\n",
      "      <p>\n",
      "       We (Loma Buena) sometimes collect information about attitudes, behaviors, preferences, perceptions, choices, habits, demographics, and opinions. We sometimes also use data about individuals' behaviors, like web sites they have visited, that we get from other organizations that are permitted to share the data for research and product development purposes. This data is PII.\n",
      "      </p>\n",
      "      <p>\n",
      "       <strong>\n",
      "  \n"
     ]
    }
   ],
   "source": [
    "print soup.prettify()[2400:4000]"
   ]
  },
  {
   "cell_type": "code",
   "execution_count": 19,
   "metadata": {
    "collapsed": true
   },
   "outputs": [],
   "source": [
    "text = soup.find_all(\"p\")"
   ]
  },
  {
   "cell_type": "markdown",
   "metadata": {},
   "source": [
    "Now all the paragraph tags are stored in an array called text, and I can select one and apply get_text() in order to remove the html."
   ]
  },
  {
   "cell_type": "code",
   "execution_count": 26,
   "metadata": {
    "collapsed": false
   },
   "outputs": [
    {
     "data": {
      "text/plain": [
       "u'We sometimes obtain data from people who use our community sites or blogs, or who assist in compiling data for research on management or policy decision-making. Here is how we take care of this information and protect the privacy of those who provide it.'"
      ]
     },
     "execution_count": 26,
     "metadata": {},
     "output_type": "execute_result"
    }
   ],
   "source": [
    "text[0].get_text()"
   ]
  },
  {
   "cell_type": "code",
   "execution_count": 27,
   "metadata": {
    "collapsed": false
   },
   "outputs": [
    {
     "data": {
      "text/plain": [
       "u\"There are various definitions of PII, but what it is is information that can be connected to a person's natural identity.\""
      ]
     },
     "execution_count": 27,
     "metadata": {},
     "output_type": "execute_result"
    }
   ],
   "source": [
    "text[2].get_text()"
   ]
  },
  {
   "cell_type": "code",
   "execution_count": 35,
   "metadata": {
    "collapsed": true
   },
   "outputs": [],
   "source": [
    "ultimate_regexp = \"(?i)<\\/?\\w+((\\s+\\w+(\\s*=\\s*(?:\\\".*?\\\"|'.*?'|[^'\\\">\\s]+))?)+\\s*|\\s*)\\/?>\""
   ]
  },
  {
   "cell_type": "code",
   "execution_count": 40,
   "metadata": {
    "collapsed": false
   },
   "outputs": [],
   "source": [
    "HtmlFile = open(\"privacy.html\", 'r')\n",
    "source_code = HtmlFile.read() "
   ]
  },
  {
   "cell_type": "code",
   "execution_count": 42,
   "metadata": {
    "collapsed": false
   },
   "outputs": [
    {
     "name": "stdout",
     "output_type": "stream",
     "text": [
      "'<html class=\"no-js lt-ie9 lt-ie8 lt-ie7\" lang=\"en\">'\n",
      "'<html class=\"no-js lt-ie9 lt-ie8\" lang=\"en\">'\n",
      "'<html class=\"no-js lt-ie9\" lang=\"en\">'\n",
      "'<html class=\"no-js\" lang=\"en\">'\n",
      "'<head>'\n",
      "'<meta charset=\"utf-8\">'\n",
      "'<title>'\n",
      "'</title>'\n",
      "'<meta name=\"keywords\" content=\"privacy policy\" />'\n",
      "'<link rel=\"canonical\" href=\"http://lba.com/index.php?id=privacy\" />'\n",
      "'<meta name=\"viewport\" content=\"width=device-width\">'\n",
      "'<link rel=\"stylesheet\" href=\"http://lba.com/theme/ElegantResponsive0.1/css/style.css\">'\n",
      "'<script src=\"http://lba.com/theme/ElegantResponsive0.1/js/libs/modernizr-2.5.3-respond-1.1.0.min.js\">'\n",
      "'</script>'\n",
      "'</head>'\n",
      "'<style type=\"text/css\">'\n",
      "'</style>'\n",
      "'<body>'\n",
      "'<p class=chromeframe>'\n",
      "'<em>'\n",
      "'</em>'\n",
      "'<a href=\"http://browsehappy.com/\">'\n",
      "'</a>'\n",
      "'<a href=\"http://www.google.com/chromeframe/?redirect=true\">'\n",
      "'</a>'\n",
      "'</p>'\n",
      "'<div id=\"header-container\">'\n",
      "'<header class=\"wrapper clearfix\">'\n",
      "'<h1 id=\"title\">'\n",
      "'<a href=\"http://lba.com/\">'\n",
      "'<img src=\"http://lba.com/theme/ElegantResponsive0.1/images/logo.png\" alt=\"Loma Buena Associates\">'\n",
      "'</a>'\n",
      "'</h1>'\n",
      "'<nav>'\n",
      "'<ul>'\n",
      "'<li class=\"contact\">'\n",
      "'<a href=\"http://lba.com/index.php?id=contact\" title=\"Contact\">'\n",
      "'</a>'\n",
      "'</li>'\n",
      "'<li class=\"privacy current active\">'\n",
      "'<a href=\"http://lba.com/index.php?id=privacy\" title=\"Privacy\">'\n",
      "'</a>'\n",
      "'</li>'\n",
      "'<li class=\"library\">'\n",
      "'<a href=\"http://lba.com/index.php?id=library\" title=\"Library\">'\n",
      "'</a>'\n",
      "'</li>'\n",
      "'<li class=\"background\">'\n",
      "'<a href=\"http://lba.com/index.php?id=background\" title=\"Background\">'\n",
      "'</a>'\n",
      "'</li>'\n",
      "'<li class=\"services\">'\n",
      "'<a href=\"http://lba.com/index.php?id=services\" title=\"Services\">'\n",
      "'</a>'\n",
      "'</li>'\n",
      "'<li class=\"index\">'\n",
      "'<a href=\"http://lba.com/\" title=\"Loma Buena Associates\">'\n",
      "'</a>'\n",
      "'</li>'\n",
      "'</ul>'\n",
      "'</nav>'\n",
      "'</header>'\n",
      "'</div>'\n",
      "'<div id=\"main-container\">'\n",
      "'<div id=\"main\" class=\"wrapper clearfix\">'\n",
      "'<article>'\n",
      "'<header>'\n",
      "'<h1>'\n",
      "'</h1>'\n",
      "'</header>'\n",
      "'<section>'\n",
      "'<h2>'\n",
      "'</h2>'\n",
      "'<p>'\n",
      "'</p>'\n",
      "'<p>'\n",
      "'<strong>'\n",
      "'</strong>'\n",
      "'</p>'\n",
      "'<p>'\n",
      "'</p>'\n",
      "'<p>'\n",
      "'</p>'\n",
      "'<p>'\n",
      "'<strong>'\n",
      "'</strong>'\n",
      "'</p>'\n",
      "'<p>'\n",
      "'<strong>'\n",
      "'</strong>'\n",
      "'</p>'\n",
      "'<p>'\n",
      "'<strong>'\n",
      "'</strong>'\n",
      "'</p>'\n",
      "'<p>'\n",
      "'<strong>'\n",
      "'</strong>'\n",
      "'</p>'\n",
      "'</section>'\n",
      "'</article>'\n",
      "'</div>'\n",
      "'</div>'\n",
      "'<div id=\"footer-container\">'\n",
      "'<footer class=\"wrapper\">'\n",
      "'<p>'\n",
      "'<a href=\"http://lucamusolesi.altervista.org/\">'\n",
      "'</a>'\n",
      "'<a href=\"http://get-simple.info/\" target=\"_blank\" >'\n",
      "'</a>'\n",
      "'</p>'\n",
      "'</footer>'\n",
      "'</div>'\n",
      "'</body>'\n",
      "'</html>'\n"
     ]
    }
   ],
   "source": [
    "for match in re.finditer(ultimate_regexp, source_code):\n",
    "    print repr(match.group())"
   ]
  },
  {
   "cell_type": "code",
   "execution_count": 41,
   "metadata": {
    "collapsed": false
   },
   "outputs": [
    {
     "data": {
      "text/plain": [
       "'<!doctype html>\\n<!--[if lt IE 7]> <html class=\"no-js lt-ie9 lt-ie8 lt-ie7\" lang=\"en\"> <![endif]-->\\n<!--[if IE 7]>    <html class=\"no-js lt-ie9 lt-ie8\" lang=\"en\"> <![endif]-->\\n<!--[if IE 8]>    <html class=\"no-js lt-ie9\" lang=\"en\"> <![endif]-->\\n<!--[if gt IE 8]><!--> <html class=\"no-js\" lang=\"en\"> <!--<![endif]-->\\n<head>\\n\\t<meta charset=\"utf-8\">\\n\\t<meta http-equiv=\"X-UA-Compatible\" content=\"IE=edge,chrome=1\">\\n\\n\\t<title>Privacy - Loma Buena Associates</title>\\n\\t<meta name=\"keywords\" content=\"privacy policy\" />\\n<link rel=\"canonical\" href=\"http://lba.com/index.php?id=privacy\" />\\n\\n\\t<meta name=\"viewport\" content=\"width=device-width\">\\n\\n\\t<link rel=\"stylesheet\" href=\"http://lba.com/theme/ElegantResponsive0.1/css/style.css\">\\n\\n\\t<script src=\"http://lba.com/theme/ElegantResponsive0.1/js/libs/modernizr-2.5.3-respond-1.1.0.min.js\"></script>\\n</head>\\n\\n<style type=\"text/css\">\\n\\t#main article{\\n\\t\\tfloat:left;\\n\\t\\twidth:100%;\\n\\t}\\n</style> \\n\\n<body>\\n<!--[if lt IE 7]><p class=chromeframe>Your browser is <em>ancient!</em> <a href=\"http://browsehappy.com/\">Upgrade to a different browser</a> or <a href=\"http://www.google.com/chromeframe/?redirect=true\">install Google Chrome Frame</a> to experience this site.</p><![endif]-->\\n\\n\\t<div id=\"header-container\">\\n\\t\\t<header class=\"wrapper clearfix\">\\n\\t\\t\\t<h1 id=\"title\"><a href=\"http://lba.com/\"><img src=\"http://lba.com/theme/ElegantResponsive0.1/images/logo.png\" alt=\"Loma Buena Associates\"></a></h1>\\n\\t\\t\\t<nav>\\n\\t\\t\\t\\t<ul>\\n\\t\\t\\t\\t\\t<li class=\"contact\"><a href=\"http://lba.com/index.php?id=contact\" title=\"Contact\">Contact</a></li>\\n<li class=\"privacy current active\"><a href=\"http://lba.com/index.php?id=privacy\" title=\"Privacy\">Privacy</a></li>\\n<li class=\"library\"><a href=\"http://lba.com/index.php?id=library\" title=\"Library\">Library</a></li>\\n<li class=\"background\"><a href=\"http://lba.com/index.php?id=background\" title=\"Background\">Background</a></li>\\n<li class=\"services\"><a href=\"http://lba.com/index.php?id=services\" title=\"Services\">Services</a></li>\\n<li class=\"index\"><a href=\"http://lba.com/\" title=\"Loma Buena Associates\">Home</a></li>\\n\\t\\t\\t\\t</ul>\\n\\t\\t\\t</nav>\\n\\t\\t</header>\\n\\t</div>\\n\\t<div id=\"main-container\">\\n\\t\\t<div id=\"main\" class=\"wrapper clearfix\">\\n\\t\\t\\t\\n\\t\\t\\t<article>\\n\\t\\t\\t\\t<header>\\n\\t\\t\\t\\t\\t<h1>Privacy</h1>\\t\\t\\t\\n\\t\\t\\t\\t</header>\\n\\t\\t\\t\\t<section>\\n\\t\\t\\t\\t\\t<h2>Our Policy regarding what we may know about you</h2>\\n<p>We sometimes obtain data from people who use our community sites or blogs, or who assist in compiling data for research on management or policy decision-making. Here is how we take care of this information and protect the privacy of those who provide it.</p>\\n<p><strong>Information</strong>. While doing what we do we may obtain information from individuals who have agreed to provide it to us for some specific purpose, like for understanding what is valuable for consumers, companies, nonprofits, or governments. We may also use cookies, a means of identifying particular computers so as to enhance the experience of web site users. This information may be what\\'s called \"personally identifiable information\" (PII).</p>\\n<p>There are various definitions of PII, but what it is is information that can be connected to a person\\'s natural identity.</p>\\n<p>We (Loma Buena) sometimes collect information about attitudes, behaviors, preferences, perceptions, choices, habits, demographics, and opinions. We sometimes also use data about individuals\\' behaviors, like web sites they have visited, that we get from other organizations that are permitted to share the data for research and product development purposes. This data is PII.</p>\\n<p><strong>For the most part, no one else can see your PII</strong>. If we have collected PII from you, we will not provide it in other than summary or anonymized form to any other organization without your explicit permission to do so, unless we are forced to do so by law or by court order. It won\\'t be used for other than the purpose stated when you agreed to share it with us, without your prior approval.</p>\\n<p><strong>If we have your PII, you can see it and change it</strong>. To request PII we have obtained from you, please send your request to PII (at) LBA.com. Please note that we may ask you questions to authenticate your participation in one of our projects, and for identification. You may change any aspect of your PII information that we have.</p>\\n<p><strong>Policy changes</strong>. If our policy regarding privacy and PII changes, we\\'ll update what\\'s on this page. We will also note the date of the most recent revision of it, as below.</p>\\n<p><strong>The effective date of the policy described above is 15 September 2008, and as revised on 16 September 2008.</strong></p>\\n\\t\\t\\t\\t</section>\\n\\t\\t\\t</article>\\n\\t\\t\\t\\n\\t\\t</div> <!-- #main -->\\n\\t</div> <!-- #main-container -->\\n\\n\\t<div id=\"footer-container\">\\n\\t\\t<footer class=\"wrapper\">\\n\\t\\t\\t<p>&copy; 2015-2017 Loma Buena Associates All Rights Reserved - Modification of Elegant Responsive by <a href=\"http://lucamusolesi.altervista.org/\">Luca Musolesi</a> - <a href=\"http://get-simple.info/\" target=\"_blank\" >Powered by  GetSimple</a></p>\\n\\t\\t</footer>\\n\\t</div>\\n\\n</body>\\n</html>\\n'"
      ]
     },
     "execution_count": 41,
     "metadata": {},
     "output_type": "execute_result"
    }
   ],
   "source": [
    "source_code"
   ]
  }
 ],
 "metadata": {
  "kernelspec": {
   "display_name": "Python 2",
   "language": "python",
   "name": "python2"
  },
  "language_info": {
   "codemirror_mode": {
    "name": "ipython",
    "version": 2
   },
   "file_extension": ".py",
   "mimetype": "text/x-python",
   "name": "python",
   "nbconvert_exporter": "python",
   "pygments_lexer": "ipython2",
   "version": "2.7.13"
  }
 },
 "nbformat": 4,
 "nbformat_minor": 0
}
