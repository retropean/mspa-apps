{
 "cells": [
  {
   "cell_type": "code",
   "execution_count": 1,
   "metadata": {
    "collapsed": false
   },
   "outputs": [
    {
     "name": "stdout",
     "output_type": "stream",
     "text": [
      "'<strong>'\n",
      "'</strong>'\n",
      "'<em>'\n",
      "'</em>'\n",
      "'<a href=\"https://en.wikipedia.org/wiki/Html\">'\n",
      "'</a>'\n"
     ]
    }
   ],
   "source": [
    "import re\n",
    "\n",
    "content = \"\"\"This is the <strong>content</strong> in which we want to\n",
    "<em>find</em> <a href=\"https://en.wikipedia.org/wiki/Html\">HTML</a> tags.\"\"\"\n",
    "\n",
    "ultimate_regexp = \"(?i)<\\/?\\w+((\\s+\\w+(\\s*=\\s*(?:\\\".*?\\\"|'.*?'|[^'\\\">\\s]+))?)+\\s*|\\s*)\\/?>\"\n",
    "for match in re.finditer(ultimate_regexp, content):\n",
    "    print repr(match.group())"
   ]
  }
 ],
 "metadata": {
  "kernelspec": {
   "display_name": "Python 2",
   "language": "python",
   "name": "python2"
  },
  "language_info": {
   "codemirror_mode": {
    "name": "ipython",
    "version": 2
   },
   "file_extension": ".py",
   "mimetype": "text/x-python",
   "name": "python",
   "nbconvert_exporter": "python",
   "pygments_lexer": "ipython2",
   "version": "2.7.13"
  }
 },
 "nbformat": 4,
 "nbformat_minor": 0
}
