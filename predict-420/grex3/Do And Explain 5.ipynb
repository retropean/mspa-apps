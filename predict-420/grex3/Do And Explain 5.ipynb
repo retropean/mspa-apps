{
 "cells": [
  {
   "cell_type": "code",
   "execution_count": 32,
   "metadata": {
    "collapsed": false
   },
   "outputs": [],
   "source": [
    "import pandas as pd\n",
    "import glob\n",
    "import os"
   ]
  },
  {
   "cell_type": "code",
   "execution_count": 3,
   "metadata": {
    "collapsed": false
   },
   "outputs": [
    {
     "data": {
      "text/plain": [
       "'C:\\\\Users\\\\00811289\\\\Documents\\\\pred420\\\\grex3'"
      ]
     },
     "execution_count": 3,
     "metadata": {},
     "output_type": "execute_result"
    }
   ],
   "source": [
    "os.getcwd()"
   ]
  },
  {
   "cell_type": "code",
   "execution_count": 92,
   "metadata": {
    "collapsed": false
   },
   "outputs": [
    {
     "ename": "ValueError",
     "evalue": "No JSON object could be decoded",
     "output_type": "error",
     "traceback": [
      "\u001b[1;31m---------------------------------------------------------------------------\u001b[0m",
      "\u001b[1;31mValueError\u001b[0m                                Traceback (most recent call last)",
      "\u001b[1;32m<ipython-input-92-0298cd3128ae>\u001b[0m in \u001b[0;36m<module>\u001b[1;34m()\u001b[0m\n\u001b[1;32m----> 1\u001b[1;33m \u001b[0mjson\u001b[0m\u001b[1;33m.\u001b[0m\u001b[0mloads\u001b[0m\u001b[1;33m(\u001b[0m\u001b[1;34m'data\\\\214680.json'\u001b[0m\u001b[1;33m)\u001b[0m\u001b[1;33m\u001b[0m\u001b[0m\n\u001b[0m",
      "\u001b[1;32mC:\\Users\\00811289\\AppData\\Local\\Continuum\\Anaconda2\\lib\\json\\__init__.pyc\u001b[0m in \u001b[0;36mloads\u001b[1;34m(s, encoding, cls, object_hook, parse_float, parse_int, parse_constant, object_pairs_hook, **kw)\u001b[0m\n\u001b[0;32m    337\u001b[0m             \u001b[0mparse_int\u001b[0m \u001b[1;32mis\u001b[0m \u001b[0mNone\u001b[0m \u001b[1;32mand\u001b[0m \u001b[0mparse_float\u001b[0m \u001b[1;32mis\u001b[0m \u001b[0mNone\u001b[0m \u001b[1;32mand\u001b[0m\u001b[1;33m\u001b[0m\u001b[0m\n\u001b[0;32m    338\u001b[0m             parse_constant is None and object_pairs_hook is None and not kw):\n\u001b[1;32m--> 339\u001b[1;33m         \u001b[1;32mreturn\u001b[0m \u001b[0m_default_decoder\u001b[0m\u001b[1;33m.\u001b[0m\u001b[0mdecode\u001b[0m\u001b[1;33m(\u001b[0m\u001b[0ms\u001b[0m\u001b[1;33m)\u001b[0m\u001b[1;33m\u001b[0m\u001b[0m\n\u001b[0m\u001b[0;32m    340\u001b[0m     \u001b[1;32mif\u001b[0m \u001b[0mcls\u001b[0m \u001b[1;32mis\u001b[0m \u001b[0mNone\u001b[0m\u001b[1;33m:\u001b[0m\u001b[1;33m\u001b[0m\u001b[0m\n\u001b[0;32m    341\u001b[0m         \u001b[0mcls\u001b[0m \u001b[1;33m=\u001b[0m \u001b[0mJSONDecoder\u001b[0m\u001b[1;33m\u001b[0m\u001b[0m\n",
      "\u001b[1;32mC:\\Users\\00811289\\AppData\\Local\\Continuum\\Anaconda2\\lib\\json\\decoder.pyc\u001b[0m in \u001b[0;36mdecode\u001b[1;34m(self, s, _w)\u001b[0m\n\u001b[0;32m    362\u001b[0m \u001b[1;33m\u001b[0m\u001b[0m\n\u001b[0;32m    363\u001b[0m         \"\"\"\n\u001b[1;32m--> 364\u001b[1;33m         \u001b[0mobj\u001b[0m\u001b[1;33m,\u001b[0m \u001b[0mend\u001b[0m \u001b[1;33m=\u001b[0m \u001b[0mself\u001b[0m\u001b[1;33m.\u001b[0m\u001b[0mraw_decode\u001b[0m\u001b[1;33m(\u001b[0m\u001b[0ms\u001b[0m\u001b[1;33m,\u001b[0m \u001b[0midx\u001b[0m\u001b[1;33m=\u001b[0m\u001b[0m_w\u001b[0m\u001b[1;33m(\u001b[0m\u001b[0ms\u001b[0m\u001b[1;33m,\u001b[0m \u001b[1;36m0\u001b[0m\u001b[1;33m)\u001b[0m\u001b[1;33m.\u001b[0m\u001b[0mend\u001b[0m\u001b[1;33m(\u001b[0m\u001b[1;33m)\u001b[0m\u001b[1;33m)\u001b[0m\u001b[1;33m\u001b[0m\u001b[0m\n\u001b[0m\u001b[0;32m    365\u001b[0m         \u001b[0mend\u001b[0m \u001b[1;33m=\u001b[0m \u001b[0m_w\u001b[0m\u001b[1;33m(\u001b[0m\u001b[0ms\u001b[0m\u001b[1;33m,\u001b[0m \u001b[0mend\u001b[0m\u001b[1;33m)\u001b[0m\u001b[1;33m.\u001b[0m\u001b[0mend\u001b[0m\u001b[1;33m(\u001b[0m\u001b[1;33m)\u001b[0m\u001b[1;33m\u001b[0m\u001b[0m\n\u001b[0;32m    366\u001b[0m         \u001b[1;32mif\u001b[0m \u001b[0mend\u001b[0m \u001b[1;33m!=\u001b[0m \u001b[0mlen\u001b[0m\u001b[1;33m(\u001b[0m\u001b[0ms\u001b[0m\u001b[1;33m)\u001b[0m\u001b[1;33m:\u001b[0m\u001b[1;33m\u001b[0m\u001b[0m\n",
      "\u001b[1;32mC:\\Users\\00811289\\AppData\\Local\\Continuum\\Anaconda2\\lib\\json\\decoder.pyc\u001b[0m in \u001b[0;36mraw_decode\u001b[1;34m(self, s, idx)\u001b[0m\n\u001b[0;32m    380\u001b[0m             \u001b[0mobj\u001b[0m\u001b[1;33m,\u001b[0m \u001b[0mend\u001b[0m \u001b[1;33m=\u001b[0m \u001b[0mself\u001b[0m\u001b[1;33m.\u001b[0m\u001b[0mscan_once\u001b[0m\u001b[1;33m(\u001b[0m\u001b[0ms\u001b[0m\u001b[1;33m,\u001b[0m \u001b[0midx\u001b[0m\u001b[1;33m)\u001b[0m\u001b[1;33m\u001b[0m\u001b[0m\n\u001b[0;32m    381\u001b[0m         \u001b[1;32mexcept\u001b[0m \u001b[0mStopIteration\u001b[0m\u001b[1;33m:\u001b[0m\u001b[1;33m\u001b[0m\u001b[0m\n\u001b[1;32m--> 382\u001b[1;33m             \u001b[1;32mraise\u001b[0m \u001b[0mValueError\u001b[0m\u001b[1;33m(\u001b[0m\u001b[1;34m\"No JSON object could be decoded\"\u001b[0m\u001b[1;33m)\u001b[0m\u001b[1;33m\u001b[0m\u001b[0m\n\u001b[0m\u001b[0;32m    383\u001b[0m         \u001b[1;32mreturn\u001b[0m \u001b[0mobj\u001b[0m\u001b[1;33m,\u001b[0m \u001b[0mend\u001b[0m\u001b[1;33m\u001b[0m\u001b[0m\n",
      "\u001b[1;31mValueError\u001b[0m: No JSON object could be decoded"
     ]
    }
   ],
   "source": [
    "json.loads('data\\\\214680.json')"
   ]
  },
  {
   "cell_type": "code",
   "execution_count": 3,
   "metadata": {
    "collapsed": false
   },
   "outputs": [
    {
     "ename": "NameError",
     "evalue": "name 'json' is not defined",
     "output_type": "error",
     "traceback": [
      "\u001b[1;31m---------------------------------------------------------------------------\u001b[0m",
      "\u001b[1;31mNameError\u001b[0m                                 Traceback (most recent call last)",
      "\u001b[1;32m<ipython-input-3-3c0fe2188cc8>\u001b[0m in \u001b[0;36m<module>\u001b[1;34m()\u001b[0m\n\u001b[0;32m      1\u001b[0m \u001b[1;32mfor\u001b[0m \u001b[0mname\u001b[0m \u001b[1;32min\u001b[0m \u001b[0mglob\u001b[0m\u001b[1;33m.\u001b[0m\u001b[0mglob\u001b[0m\u001b[1;33m(\u001b[0m\u001b[1;34m'data\\\\*.json'\u001b[0m\u001b[1;33m)\u001b[0m\u001b[1;33m:\u001b[0m\u001b[1;33m\u001b[0m\u001b[0m\n\u001b[1;32m----> 2\u001b[1;33m     \u001b[0mjson\u001b[0m\u001b[1;33m.\u001b[0m\u001b[0mloads\u001b[0m\u001b[1;33m(\u001b[0m\u001b[0mname\u001b[0m\u001b[1;33m)\u001b[0m\u001b[1;33m\u001b[0m\u001b[0m\n\u001b[0m",
      "\u001b[1;31mNameError\u001b[0m: name 'json' is not defined"
     ]
    }
   ],
   "source": [
    "for name in glob.glob('data\\\\*.json'):\n",
    "    json.loads(name)"
   ]
  },
  {
   "cell_type": "code",
   "execution_count": 34,
   "metadata": {
    "collapsed": false
   },
   "outputs": [],
   "source": [
    "data_final = pd.read_json('data\\\\72598.json', typ='series', orient='records')"
   ]
  },
  {
   "cell_type": "code",
   "execution_count": 35,
   "metadata": {
    "collapsed": false
   },
   "outputs": [],
   "source": [
    "for name in glob.glob('data\\\\*.json'):\n",
    "    data_load = pd.read_json(name, typ='series', orient='records')\n",
    "    data_final = data_final.append(data_load)"
   ]
  },
  {
   "cell_type": "code",
   "execution_count": 42,
   "metadata": {
    "collapsed": false
   },
   "outputs": [
    {
     "data": {
      "text/plain": [
       "pandas.core.series.Series"
      ]
     },
     "execution_count": 42,
     "metadata": {},
     "output_type": "execute_result"
    }
   ],
   "source": [
    "type(data_final)"
   ]
  },
  {
   "cell_type": "code",
   "execution_count": 44,
   "metadata": {
    "collapsed": false
   },
   "outputs": [
    {
     "data": {
      "text/plain": [
       "HotelInfo    {u'Name': u'Comfort Inn & Suites Seattle', u'H...\n",
       "Reviews      [{u'Ratings': {u'Service': u'1', u'Cleanliness...\n",
       "HotelInfo    {u'Name': u'Hotel Seattle', u'HotelURL': u'/Sh...\n",
       "Reviews      [{u'Ratings': {u'Service': u'1', u'Cleanliness...\n",
       "HotelInfo    {u'HotelURL': u'http://www.tripadvisor.com/Sho...\n",
       "Reviews      [{u'Content': u'Most stylish hotel in universi...\n",
       "HotelInfo    {u'HotelURL': u'http://www.tripadvisor.com/Sho...\n",
       "Reviews      [{u'Content': u'Beautiful Hotel; Mediocre Food...\n",
       "HotelInfo    {u'HotelURL': u'http://www.tripadvisor.com/Sho...\n",
       "Reviews      [{u'Content': u'Decent Hotel, No Wow Nothing s...\n",
       "HotelInfo    {u'Name': u'Kendall Hotel and Suites', u'Hotel...\n",
       "Reviews      [{u'Ratings': {u'Service': u'3', u'Cleanliness...\n",
       "HotelInfo    {u'Name': u'San Diego Marriott Mission Valley'...\n",
       "Reviews      [{u'Ratings': {u'Service': u'5', u'Cleanliness...\n",
       "HotelInfo    {u'Name': u'Hotel Banys Orientals', u'HotelURL...\n",
       "Reviews      [{u'Ratings': {u'Service': u'4', u'Cleanliness...\n",
       "HotelInfo    {u'Name': u'Meninas Hotel', u'HotelURL': u'/Sh...\n",
       "Reviews      [{u'Ratings': {u'Service': u'4', u'Cleanliness...\n",
       "HotelInfo    {u'HotelURL': u'http://www.tripadvisor.com/Sho...\n",
       "Reviews      [{u'Content': u'Peaceful n quiet Balisandy    ...\n",
       "HotelInfo    {u'HotelURL': u'http://www.tripadvisor.com/Sho...\n",
       "Reviews      [{u'Content': u'SCAM SCAM SCAM - BEWARE!!! The...\n",
       "HotelInfo    {u'Name': u'BEST WESTERN PLUS Pioneer Square H...\n",
       "Reviews      [{u'Ratings': {u'Service': u'4', u'Cleanliness...\n",
       "HotelInfo    {u'Name': u'BEST WESTERN Loyal Inn', u'HotelUR...\n",
       "Reviews      [{u'Ratings': {u'Service': u'5', u'Cleanliness...\n",
       "HotelInfo    {u'Name': u'BEST WESTERN PLUS Executive Inn', ...\n",
       "Reviews      [{u'Ratings': {u'Overall': u'5.0', u'Service':...\n",
       "HotelInfo    {u'Name': u'Comfort Inn & Suites Seattle', u'H...\n",
       "Reviews      [{u'Ratings': {u'Service': u'1', u'Cleanliness...\n",
       "HotelInfo    {u'Name': u'Christopher's Inn', u'HotelURL': u...\n",
       "Reviews      [{u'Ratings': {u'Service': u'3', u'Cleanliness...\n",
       "HotelInfo    {u'Name': u'BEST WESTERN Market Center', u'Hot...\n",
       "Reviews      [{u'Ratings': {u'Service': u'4', u'Cleanliness...\n",
       "HotelInfo    {u'Name': u'BEST WESTERN Airport Inn', u'Hotel...\n",
       "Reviews      [{u'Ratings': {u'Service': u'5', u'Cleanliness...\n",
       "HotelInfo    {u'Name': u'Super 8 Phoenix', u'HotelURL': u'/...\n",
       "Reviews      [{u'Ratings': {u'Service': u'2', u'Cleanliness...\n",
       "HotelInfo    {u'Name': u'Lexington Hotel Central Phoenix', ...\n",
       "Reviews      [{u'Ratings': {u'Service': u'5', u'Cleanliness...\n",
       "HotelInfo    {u'Name': u'Grace Inn Phoenix', u'HotelURL': u...\n",
       "Reviews      [{u'Ratings': {u'Service': u'5', u'Cleanliness...\n",
       "HotelInfo    {u'Name': u'BEST WESTERN PLUS InnSuites Phoeni...\n",
       "Reviews      [{u'Ratings': {u'Overall': u'5.0'}, u'AuthorLo...\n",
       "HotelInfo    {u'Name': u'A Victory Inn & Suites Phoenix Nor...\n",
       "Reviews      [{u'Ratings': {u'Service': u'3', u'Cleanliness...\n",
       "HotelInfo    {u'Name': u'Courtyard by Marriott Phoenix Nort...\n",
       "Reviews      [{u'Ratings': {u'Service': u'5', u'Cleanliness...\n",
       "HotelInfo    {u'Name': u'Renaissance Phoenix Downtown', u'H...\n",
       "Reviews      [{u'Ratings': {u'Service': u'5', u'Cleanliness...\n",
       "HotelInfo    {u'Name': u'Days Inn Camelback Phoenix and Con...\n",
       "Reviews      [{u'Ratings': {u'Service': u'4', u'Cleanliness...\n",
       "HotelInfo    {u'Name': u'Days Inn I-17 & Thomas', u'HotelUR...\n",
       "Reviews      [{u'Ratings': {u'Service': u'5', u'Cleanliness...\n",
       "dtype: object"
      ]
     },
     "execution_count": 44,
     "metadata": {},
     "output_type": "execute_result"
    }
   ],
   "source": [
    "data_final"
   ]
  },
  {
   "cell_type": "code",
   "execution_count": 58,
   "metadata": {
    "collapsed": false
   },
   "outputs": [
    {
     "data": {
      "text/plain": [
       "7    {u'Ratings': {u'Service': u'4', u'Cleanliness'...\n",
       "7    {u'Ratings': {u'Service': u'3', u'Cleanliness'...\n",
       "7    {u'Ratings': {u'Service': u'3', u'Cleanliness'...\n",
       "7    {u'Ratings': {u'Service': u'3', u'Cleanliness'...\n",
       "7    {u'Ratings': {u'Overall': u'4.0'}, u'AuthorLoc...\n",
       "7    {u'Ratings': {u'Service': u'5', u'Cleanliness'...\n",
       "7    {u'Ratings': {u'Service': u'3', u'Cleanliness'...\n",
       "7    {u'Ratings': {u'Service': u'4', u'Cleanliness'...\n",
       "7    {u'Ratings': {u'Service': u'5', u'Cleanliness'...\n",
       "7    {u'Ratings': {u'Service': u'5', u'Cleanliness'...\n",
       "7    {u'Ratings': {u'Service': u'4', u'Cleanliness'...\n",
       "7    {u'Ratings': {u'Service': u'3', u'Cleanliness'...\n",
       "7    {u'Ratings': {u'Service': u'5', u'Cleanliness'...\n",
       "7    {u'Ratings': {u'Service': u'4', u'Cleanliness'...\n",
       "7    {u'Ratings': {u'Service': u'3', u'Cleanliness'...\n",
       "7    {u'Ratings': {u'Service': u'1', u'Cleanliness'...\n",
       "7    {u'Ratings': {u'Service': u'4', u'Cleanliness'...\n",
       "7    {u'Ratings': {u'Service': u'1', u'Cleanliness'...\n",
       "7    {u'Ratings': {u'Service': u'5', u'Cleanliness'...\n",
       "7    {u'Ratings': {u'Service': u'4', u'Cleanliness'...\n",
       "7    {u'Ratings': {u'Service': u'3', u'Cleanliness'...\n",
       "7    {u'Ratings': {u'Service': u'4', u'Cleanliness'...\n",
       "7    {u'Ratings': {u'Service': u'4', u'Cleanliness'...\n",
       "7    {u'Ratings': {u'Service': u'3', u'Cleanliness'...\n",
       "7    {u'Ratings': {u'Service': u'5', u'Cleanliness'...\n",
       "7    {u'Ratings': {u'Service': u'5', u'Cleanliness'...\n",
       "7    {u'Ratings': {u'Service': u'5', u'Cleanliness'...\n",
       "7    {u'Ratings': {u'Service': u'4', u'Cleanliness'...\n",
       "7    {u'Ratings': {u'Service': u'4', u'Overall': u'...\n",
       "7    {u'Ratings': {u'Cleanliness': u'4', u'Sleep Qu...\n",
       "                           ...                        \n",
       "7    {u'Ratings': {u'Service': u'3', u'Cleanliness'...\n",
       "7    {u'Ratings': {u'Service': u'3', u'Cleanliness'...\n",
       "7    {u'Ratings': {u'Cleanliness': u'3', u'Check in...\n",
       "7    {u'Ratings': {u'Service': u'3', u'Cleanliness'...\n",
       "7    {u'Ratings': {u'Overall': u'4.0'}, u'AuthorLoc...\n",
       "7    {u'Ratings': {u'Service': u'1', u'Cleanliness'...\n",
       "7    {u'Ratings': {u'Overall': u'2.0'}, u'AuthorLoc...\n",
       "7    {u'Ratings': {u'Overall': u'5.0'}, u'AuthorLoc...\n",
       "7    {u'Ratings': {u'Service': u'4', u'Cleanliness'...\n",
       "7    {u'Ratings': {u'Service': u'5', u'Cleanliness'...\n",
       "7    {u'Ratings': {u'Overall': u'4.0'}, u'AuthorLoc...\n",
       "7    {u'Ratings': {u'Cleanliness': u'4', u'Overall'...\n",
       "7    {u'Ratings': {u'Cleanliness': u'2', u'Overall'...\n",
       "7    {u'Ratings': {u'Cleanliness': u'4', u'Overall'...\n",
       "7    {u'Ratings': {u'Cleanliness': u'5', u'Overall'...\n",
       "7    {u'Ratings': {u'Cleanliness': u'4', u'Overall'...\n",
       "7    {u'Ratings': {u'Cleanliness': u'5', u'Overall'...\n",
       "7    {u'Ratings': {u'Cleanliness': u'5', u'Overall'...\n",
       "7    {u'Ratings': {u'Cleanliness': u'5', u'Overall'...\n",
       "7    {u'Ratings': {u'Cleanliness': u'4', u'Overall'...\n",
       "7    {u'Ratings': {u'Cleanliness': u'4', u'Overall'...\n",
       "7    {u'Ratings': {u'Cleanliness': u'4', u'Overall'...\n",
       "7    {u'Ratings': {u'Cleanliness': u'3', u'Overall'...\n",
       "7    {u'Ratings': {u'Cleanliness': u'4', u'Overall'...\n",
       "7    {u'Ratings': {u'Cleanliness': u'2', u'Overall'...\n",
       "7    {u'Ratings': {u'Cleanliness': u'5', u'Overall'...\n",
       "7    {u'Ratings': {u'Cleanliness': u'3', u'Overall'...\n",
       "7    {u'Ratings': {u'Cleanliness': u'5', u'Overall'...\n",
       "7    {u'Ratings': {u'Overall': u'1.0'}, u'AuthorLoc...\n",
       "7    {u'Ratings': {u'Cleanliness': u'3', u'Overall'...\n",
       "dtype: object"
      ]
     },
     "execution_count": 58,
     "metadata": {},
     "output_type": "execute_result"
    }
   ],
   "source": [
    "data_final['Reviews'][7]"
   ]
  },
  {
   "cell_type": "code",
   "execution_count": 48,
   "metadata": {
    "collapsed": false
   },
   "outputs": [
    {
     "data": {
      "text/plain": [
       "pandas.core.series.Series"
      ]
     },
     "execution_count": 48,
     "metadata": {},
     "output_type": "execute_result"
    }
   ],
   "source": [
    "type(series)"
   ]
  },
  {
   "cell_type": "code",
   "execution_count": 43,
   "metadata": {
    "collapsed": false
   },
   "outputs": [
    {
     "data": {
      "text/plain": [
       "1    {u'Ratings': {u'Service': u'1', u'Cleanliness'...\n",
       "1    {u'Ratings': {u'Service': u'1', u'Cleanliness'...\n",
       "1    {u'Ratings': {u'Service': u'3', u'Cleanliness'...\n",
       "1    {u'Ratings': {u'Service': u'2', u'Cleanliness'...\n",
       "1    {u'Ratings': {u'Service': u'4', u'Cleanliness'...\n",
       "1    {u'Ratings': {u'Service': u'3', u'Cleanliness'...\n",
       "1    {u'Ratings': {u'Service': u'5', u'Cleanliness'...\n",
       "1    {u'Ratings': {u'Service': u'5', u'Overall': u'...\n",
       "1    {u'Ratings': {u'Cleanliness': u'5', u'Sleep Qu...\n",
       "1    {u'Ratings': {u'Cleanliness': u'2', u'Overall'...\n",
       "1    {u'Ratings': {u'Cleanliness': u'4', u'Sleep Qu...\n",
       "1    {u'Ratings': {u'Service': u'1', u'Cleanliness'...\n",
       "1    {u'Ratings': {u'Service': u'2', u'Cleanliness'...\n",
       "1    {u'Ratings': {u'Service': u'3', u'Cleanliness'...\n",
       "1    {u'Ratings': {u'Service': u'3', u'Cleanliness'...\n",
       "1    {u'Ratings': {u'Service': u'4', u'Cleanliness'...\n",
       "1    {u'Ratings': {u'Service': u'5', u'Cleanliness'...\n",
       "1    {u'Ratings': {u'Service': u'1', u'Cleanliness'...\n",
       "1    {u'Ratings': {u'Service': u'3', u'Cleanliness'...\n",
       "1    {u'Ratings': {u'Overall': u'1.0'}, u'AuthorLoc...\n",
       "1    {u'Ratings': {u'Service': u'1', u'Cleanliness'...\n",
       "1    {u'Ratings': {u'Service': u'5', u'Cleanliness'...\n",
       "1    {u'Ratings': {u'Service': u'5', u'Cleanliness'...\n",
       "1    {u'Ratings': {u'Cleanliness': u'5', u'Overall'...\n",
       "1    {u'Ratings': {u'Service': u'2', u'Cleanliness'...\n",
       "1    {u'Ratings': {u'Service': u'3', u'Cleanliness'...\n",
       "1    {u'Ratings': {u'Service': u'1', u'Cleanliness'...\n",
       "1    {u'Ratings': {u'Service': u'1', u'Cleanliness'...\n",
       "1    {u'Ratings': {u'Service': u'4', u'Cleanliness'...\n",
       "1    {u'Ratings': {u'Service': u'5', u'Cleanliness'...\n",
       "1    {u'Ratings': {u'Overall': u'4.0'}, u'AuthorLoc...\n",
       "1    {u'Ratings': {u'Service': u'4', u'Cleanliness'...\n",
       "1    {u'Ratings': {u'Service': u'3', u'Cleanliness'...\n",
       "1    {u'Ratings': {u'Overall': u'4.0'}, u'AuthorLoc...\n",
       "1    {u'Ratings': {u'Service': u'4', u'Business ser...\n",
       "1    {u'Ratings': {u'Service': u'3', u'Cleanliness'...\n",
       "dtype: object"
      ]
     },
     "execution_count": 43,
     "metadata": {},
     "output_type": "execute_result"
    }
   ],
   "source": [
    "data_final[1]"
   ]
  },
  {
   "cell_type": "code",
   "execution_count": 21,
   "metadata": {
    "collapsed": false
   },
   "outputs": [
    {
     "ename": "TypeError",
     "evalue": "coercing to Unicode: need string or buffer, dict found",
     "output_type": "error",
     "traceback": [
      "\u001b[1;31m---------------------------------------------------------------------------\u001b[0m",
      "\u001b[1;31mTypeError\u001b[0m                                 Traceback (most recent call last)",
      "\u001b[1;32m<ipython-input-21-54a87cc2eb1e>\u001b[0m in \u001b[0;36m<module>\u001b[1;34m()\u001b[0m\n\u001b[0;32m      1\u001b[0m \u001b[1;32mfor\u001b[0m \u001b[0mname\u001b[0m \u001b[1;32min\u001b[0m \u001b[0mdata_final\u001b[0m\u001b[1;33m:\u001b[0m\u001b[1;33m\u001b[0m\u001b[0m\n\u001b[1;32m----> 2\u001b[1;33m         \u001b[1;32mwith\u001b[0m \u001b[0mopen\u001b[0m\u001b[1;33m(\u001b[0m\u001b[0mname\u001b[0m\u001b[1;33m)\u001b[0m \u001b[1;32mas\u001b[0m \u001b[0minput_file\u001b[0m\u001b[1;33m:\u001b[0m\u001b[1;33m\u001b[0m\u001b[0m\n\u001b[0m\u001b[0;32m      3\u001b[0m             \u001b[0mjsondat\u001b[0m \u001b[1;33m=\u001b[0m \u001b[0mjson\u001b[0m\u001b[1;33m.\u001b[0m\u001b[0mload\u001b[0m\u001b[1;33m(\u001b[0m\u001b[0minput_file\u001b[0m\u001b[1;33m)\u001b[0m\u001b[1;33m\u001b[0m\u001b[0m\n",
      "\u001b[1;31mTypeError\u001b[0m: coercing to Unicode: need string or buffer, dict found"
     ]
    }
   ],
   "source": [
    "for name in data_final:\n",
    "        with open(name) as input_file:\n",
    "            jsondat = json.load(input_file)"
   ]
  },
  {
   "cell_type": "code",
   "execution_count": 20,
   "metadata": {
    "collapsed": false
   },
   "outputs": [
    {
     "data": {
      "text/plain": [
       "7    {u'Content': u'Beautiful Hotel; Mediocre Food ...\n",
       "7    {u'Content': u'Hotel Riu Bambu, Punta Cana... ...\n",
       "7    {u'Content': u'4th Time to the Bambu We are go...\n",
       "7    {u'Content': u'Nice Surprise We arrived at the...\n",
       "7    {u'Content': u'the Beach was great the rest la...\n",
       "7    {u'Content': u'The reviews don't do it justice...\n",
       "7    {u'Content': u'good time! I travelled to the R...\n",
       "7    {u'Content': u'Riu Bambu is ok I stayed at thi...\n",
       "7    {u'Content': u'Excellent Beach We read the rev...\n",
       "7    {u'Content': u'Beware       Pool - too small f...\n",
       "7    {u'Content': u'Amazing!! I went to the Riu Bam...\n",
       "7    {u'Content': u'What an awful hotel for a RIU H...\n",
       "7    {u'Content': u'Bambu Overated My husband and I...\n",
       "7    {u'Content': u'Wouldn't hesitate to go back! I...\n",
       "7    {u'Content': u'Advise for people traveling to ...\n",
       "7    {u'Content': u'hated the place where do i star...\n",
       "7    {u'Content': u'Awesome time at the Bambu! Beli...\n",
       "7    {u'Content': u'Riu Bambu, more like Riu Slurry...\n",
       "7    {u'Content': u'Beautiful resort Just came back...\n",
       "7    {u'Content': u'Resort is Just FIne       Buy a...\n",
       "7    {u'Content': u'Horrible!!! I recently came hom...\n",
       "7    {u'Content': u'Beware And Avoid! Went as part ...\n",
       "7    {u'Content': u'Very Happy Canadian!!!! Myself ...\n",
       "7    {u'Content': u'Kinda disappointed! We just ret...\n",
       "7    {u'Content': u'Overrated but not disasterous T...\n",
       "7    {u'Content': u'Long review but worth reading! ...\n",
       "7    {u'Content': u'they should have let us know th...\n",
       "7    {u'Content': u'Fabulous! A piece of heaven! I ...\n",
       "7    {u'Content': u'Without words!!!!!!! OK this wa...\n",
       "7    {u'Content': u'Better than I thought it would ...\n",
       "                           ...                        \n",
       "7    {u'Content': u'Me gust贸 las atenciones de todo...\n",
       "7    {u'Content': u'Me decepciono un poquito...   s...\n",
       "7    {u'Content': u'repito dentro de un mes!!!!   s...\n",
       "7    {u'Content': u'muy buen hotel   showReview(174...\n",
       "7    {u'Content': u'buen hotel   showReview(1726839...\n",
       "7    {u'Content': u'Atencion muy poco esmerada.    ...\n",
       "7    {u'Content': u'estado de habitaciones   showRe...\n",
       "7    {u'Content': u'hotel fabuleux   showReview(167...\n",
       "7    {u'Content': u'vacances en famille       aperc...\n",
       "7    {u'Content': u'Superbe endroit mais pour la bo...\n",
       "7    {u'Content': u'Juanma y Vane (San Fernando-C谩d...\n",
       "7    {u'Content': u'coup de foudre   showReview(143...\n",
       "7    {u'Content': u'脺berlaufen   showReview(1423614...\n",
       "7    {u'Content': u'Sch枚ne Hotelanlage mit vielen M...\n",
       "7    {u'Content': u'Lamentable       Saona2', u'Dat...\n",
       "7    {u'Content': u'Riu bambu en decadencia   showR...\n",
       "7    {u'Content': u'Las mejores vacaciones       Lo...\n",
       "7    {u'Content': u'Jeni y Pedro Sanlucar   showRev...\n",
       "7    {u'Content': u'Amamos punta cana y este hotel ...\n",
       "7    {u'Content': u'Oh my god!!! Fabuloso   showRev...\n",
       "7    {u'Content': u'vacaciones inolvidables       f...\n",
       "7    {u'Content': u'INCRE脥BLE, volveremos seguro   ...\n",
       "7    {u'Content': u'Unas vacaciones estupendas     ...\n",
       "7    {u'Content': u'Retenez le nom Riu Bambu       ...\n",
       "7    {u'Content': u'Fantastique       Piscinita', u...\n",
       "7    {u'Content': u'vacances merveilleuses   showRe...\n",
       "7    {u'Content': u'En menos de un a帽o he ido 2 vec...\n",
       "7    {u'Content': u'Des vacances formidables   show...\n",
       "7    {u'Content': u'Maravilloso, ha sido una segund...\n",
       "7    {u'Content': u'Super voyage       resto 脿 la c...\n",
       "dtype: object"
      ]
     },
     "execution_count": 20,
     "metadata": {},
     "output_type": "execute_result"
    }
   ],
   "source": [
    "data_final[7]"
   ]
  },
  {
   "cell_type": "code",
   "execution_count": 67,
   "metadata": {
    "collapsed": false
   },
   "outputs": [
    {
     "data": {
      "text/plain": [
       "'data\\\\73768.json'"
      ]
     },
     "execution_count": 67,
     "metadata": {},
     "output_type": "execute_result"
    }
   ],
   "source": [
    "f_name"
   ]
  },
  {
   "cell_type": "code",
   "execution_count": 94,
   "metadata": {
    "collapsed": false
   },
   "outputs": [
    {
     "data": {
      "text/plain": [
       "['100506.json',\n",
       " '1217974.json',\n",
       " '150849.json',\n",
       " '214680.json',\n",
       " '240124.json',\n",
       " '2515575.json',\n",
       " '287670.json',\n",
       " '550994.json',\n",
       " '655424.json',\n",
       " '677703.json',\n",
       " '72572.json',\n",
       " '72579.json',\n",
       " '72586.json',\n",
       " '72598.json',\n",
       " '73393.json',\n",
       " '73644.json',\n",
       " '73706.json',\n",
       " '73712.json',\n",
       " '73718.json',\n",
       " '73727.json',\n",
       " '73739.json',\n",
       " '73743.json',\n",
       " '73751.json',\n",
       " '73757.json',\n",
       " '73760.json',\n",
       " '73768.json']"
      ]
     },
     "execution_count": 94,
     "metadata": {},
     "output_type": "execute_result"
    }
   ],
   "source": [
    "os.listdir('data')"
   ]
  },
  {
   "cell_type": "code",
   "execution_count": 4,
   "metadata": {
    "collapsed": false
   },
   "outputs": [],
   "source": [
    "json_files = glob.glob(\"data\\\\*.json\")"
   ]
  },
  {
   "cell_type": "code",
   "execution_count": 5,
   "metadata": {
    "collapsed": false
   },
   "outputs": [
    {
     "data": {
      "text/plain": [
       "['data\\\\100506.json',\n",
       " 'data\\\\1217974.json',\n",
       " 'data\\\\150849.json',\n",
       " 'data\\\\214680.json',\n",
       " 'data\\\\240124.json',\n",
       " 'data\\\\2515575.json',\n",
       " 'data\\\\287670.json',\n",
       " 'data\\\\550994.json',\n",
       " 'data\\\\655424.json',\n",
       " 'data\\\\677703.json',\n",
       " 'data\\\\72572.json',\n",
       " 'data\\\\72579.json',\n",
       " 'data\\\\72586.json',\n",
       " 'data\\\\72598.json',\n",
       " 'data\\\\73393.json',\n",
       " 'data\\\\73644.json',\n",
       " 'data\\\\73706.json',\n",
       " 'data\\\\73712.json',\n",
       " 'data\\\\73718.json',\n",
       " 'data\\\\73727.json',\n",
       " 'data\\\\73739.json',\n",
       " 'data\\\\73743.json',\n",
       " 'data\\\\73751.json',\n",
       " 'data\\\\73757.json',\n",
       " 'data\\\\73760.json',\n",
       " 'data\\\\73768.json']"
      ]
     },
     "execution_count": 5,
     "metadata": {},
     "output_type": "execute_result"
    }
   ],
   "source": [
    "json_files"
   ]
  },
  {
   "cell_type": "code",
   "execution_count": 16,
   "metadata": {
    "collapsed": false
   },
   "outputs": [
    {
     "data": {
      "text/plain": [
       "'1217974.json'"
      ]
     },
     "execution_count": 16,
     "metadata": {},
     "output_type": "execute_result"
    }
   ],
   "source": [
    "os.path.basename(glob.glob(\"data\\\\*.json\")[1])"
   ]
  },
  {
   "cell_type": "code",
   "execution_count": 95,
   "metadata": {
    "collapsed": false
   },
   "outputs": [
    {
     "data": {
      "text/plain": [
       "['100506.json',\n",
       " '1217974.json',\n",
       " '150849.json',\n",
       " '214680.json',\n",
       " '240124.json',\n",
       " '2515575.json',\n",
       " '287670.json',\n",
       " '550994.json',\n",
       " '655424.json',\n",
       " '677703.json',\n",
       " '72572.json',\n",
       " '72579.json',\n",
       " '72586.json',\n",
       " '72598.json',\n",
       " '73393.json',\n",
       " '73644.json',\n",
       " '73706.json',\n",
       " '73712.json',\n",
       " '73718.json',\n",
       " '73727.json',\n",
       " '73739.json',\n",
       " '73743.json',\n",
       " '73751.json',\n",
       " '73757.json',\n",
       " '73760.json',\n",
       " '73768.json']"
      ]
     },
     "execution_count": 95,
     "metadata": {},
     "output_type": "execute_result"
    }
   ],
   "source": [
    "[os.path.basename(x) for x in glob.glob(\"data\\\\*.json\")]"
   ]
  },
  {
   "cell_type": "code",
   "execution_count": 17,
   "metadata": {
    "collapsed": true
   },
   "outputs": [],
   "source": [
    "names = [os.path.basename(x) for x in glob.glob(\"data\\\\*.json\")]"
   ]
  },
  {
   "cell_type": "code",
   "execution_count": 19,
   "metadata": {
    "collapsed": false
   },
   "outputs": [
    {
     "data": {
      "text/plain": [
       "['100506.json',\n",
       " '1217974.json',\n",
       " '150849.json',\n",
       " '214680.json',\n",
       " '240124.json',\n",
       " '2515575.json',\n",
       " '287670.json',\n",
       " '550994.json',\n",
       " '655424.json',\n",
       " '677703.json',\n",
       " '72572.json',\n",
       " '72579.json',\n",
       " '72586.json',\n",
       " '72598.json',\n",
       " '73393.json',\n",
       " '73644.json',\n",
       " '73706.json',\n",
       " '73712.json',\n",
       " '73718.json',\n",
       " '73727.json',\n",
       " '73739.json',\n",
       " '73743.json',\n",
       " '73751.json',\n",
       " '73757.json',\n",
       " '73760.json',\n",
       " '73768.json']"
      ]
     },
     "execution_count": 19,
     "metadata": {},
     "output_type": "execute_result"
    }
   ],
   "source": [
    "names"
   ]
  },
  {
   "cell_type": "code",
   "execution_count": null,
   "metadata": {
    "collapsed": true
   },
   "outputs": [],
   "source": [
    "for name in names:\n",
    "    "
   ]
  },
  {
   "cell_type": "code",
   "execution_count": 42,
   "metadata": {
    "collapsed": false
   },
   "outputs": [],
   "source": [
    "data_one = pandas.read_json('C:\\\\Users\\\\00811289\\\\Documents\\\\pred420\\\\grex3\\\\data\\\\100506.json', typ='series')"
   ]
  },
  {
   "cell_type": "code",
   "execution_count": 69,
   "metadata": {
    "collapsed": false
   },
   "outputs": [],
   "source": [
    "data_two = pandas.read_json('data\\\\73768.json', typ='series', orient='records')"
   ]
  },
  {
   "cell_type": "code",
   "execution_count": 64,
   "metadata": {
    "collapsed": false
   },
   "outputs": [
    {
     "data": {
      "text/plain": [
       "HotelInfo    {u'Name': u'Hotel Seattle', u'HotelURL': u'/Sh...\n",
       "Reviews      [{u'Ratings': {u'Service': u'1', u'Cleanliness...\n",
       "dtype: object"
      ]
     },
     "execution_count": 64,
     "metadata": {},
     "output_type": "execute_result"
    }
   ],
   "source": [
    "data_one"
   ]
  },
  {
   "cell_type": "code",
   "execution_count": 70,
   "metadata": {
    "collapsed": false
   },
   "outputs": [
    {
     "data": {
      "text/plain": [
       "HotelInfo    {u'Name': u'Days Inn I-17 & Thomas', u'HotelUR...\n",
       "Reviews      [{u'Ratings': {u'Service': u'5', u'Cleanliness...\n",
       "dtype: object"
      ]
     },
     "execution_count": 70,
     "metadata": {},
     "output_type": "execute_result"
    }
   ],
   "source": [
    "data_two"
   ]
  }
 ],
 "metadata": {
  "kernelspec": {
   "display_name": "Python 2",
   "language": "python",
   "name": "python2"
  },
  "language_info": {
   "codemirror_mode": {
    "name": "ipython",
    "version": 2
   },
   "file_extension": ".py",
   "mimetype": "text/x-python",
   "name": "python",
   "nbconvert_exporter": "python",
   "pygments_lexer": "ipython2",
   "version": "2.7.13"
  }
 },
 "nbformat": 4,
 "nbformat_minor": 0
}
