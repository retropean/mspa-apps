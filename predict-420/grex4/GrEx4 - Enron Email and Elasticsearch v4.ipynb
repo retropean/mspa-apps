{
 "cells": [
  {
   "cell_type": "markdown",
   "metadata": {},
   "source": [
    "Note- This content is copyrighted material:  \n",
    "CC-BY Attribution 4.0 International  \n",
    "Lynd Bacon & Associates, Ltd. DBA Loma Buena Associates   www.LBA.com  \n",
    "For information on permissible use, see https://creativecommons.org/licenses/by-sa/4.0/"
   ]
  },
  {
   "cell_type": "markdown",
   "metadata": {},
   "source": [
    "[PRED420 Summer 2017]\n",
    "\n",
    "In this last required assignment you'll be examining email data from the Enron Corporation, which infamously collapsed into bankruptcy in 2001.  The firm filed for bankruptcy on Dec. 2 of that year.  The email data was compiled by the Federal Energy Regulatory Commission for investigative and litigation purposes.  It is now available from diverse sources and in various forms, and it has been researched by many. You can find out about this data at:\n",
    "\n",
    "https://en.wikipedia.org/wiki/Enron_Corpus\n",
    "\n",
    "The version of the data you'll use for this exercise is housed on the SSCC and in the Elasticsearch (ES) server.  You'll obtain it from the SSCC and will work on it locally using Python."
   ]
  },
  {
   "cell_type": "markdown",
   "metadata": {},
   "source": [
    "## The Data"
   ]
  },
  {
   "cell_type": "markdown",
   "metadata": {},
   "source": [
    "Your goal is to get the data into a Python session running on your computer, and then to use it to answer some questions about it.\n",
    "\n",
    "The data are on the SSCC, which you can access using a vpn client."
   ]
  },
  {
   "cell_type": "markdown",
   "metadata": {},
   "source": [
    "We recommend that for this assignment you use one of the available Python ES clients in a Python session you run locally.  The Python ES clients that are available include `elasticsearch` and `elasticsearch_dsl`.  See the ES Jupyter notebooks on Canvas for guidance on connecting to and using ES on the SSCC using the Python `elasticsearch` client.  This is the \"official\" ES client.  You might find `elasticsearch_dsl` to be a bit more intuitive.  Give it a try if you want."
   ]
  },
  {
   "cell_type": "markdown",
   "metadata": {},
   "source": [
    "The data are in the `enron` index in the ES database. To do what follows you'll need to download what's in the index (it's big, so be prepared for the download to take some time), and then process the messages you've downloaded to analyze those that Ken Lay either sent or received.\n",
    "\n",
    "Upon last inspection the `enron` ES index had about 250,000 messages in it.   A smaller number of these mention an email address for Ken Lay in a message header.  Email addresses for Lay may be like `klay@enron.com` or some variation on this.  He may have used more than one email address. (Don't many of us?) Some of his addresses may mention his corporate title rather than his name. The challenge here is to identify _all_ messages _to_ or _from_ Ken Lay.  (You don't need to consider any that cc'd or bcc'd him.)\n",
    "\n",
    "For more information about how the `enron` index is organized, see the document on Canvas \"nw-sps_elastic_cluster_tutorial-1_vx.pdf,\" where 'x' is a version number, like '2.' This docment includes the 'mapping' of the `enron` index.  The Jupyter notebooks on Canvas provide you with examples of accessing the index and will give you a look at the messages in it."
   ]
  },
  {
   "cell_type": "markdown",
   "metadata": {},
   "source": [
    "## What You Need To Do"
   ]
  },
  {
   "cell_type": "markdown",
   "metadata": {},
   "source": [
    "When you do the following, be sure to check your work in each step.  For each step, provide documented, syntactically correct code, and also any results requested for that step.\n",
    "\n",
    "1. Extract the messages from the `enron` index that include a Ken Lay email address in them in a To: or From: message header. How many email messages are these? \n",
    "2. How many different Ken Lay email addresses are there in these messages?  Provide a count of how many times each one occurs in the messages.\n",
    "2. Provide counts of how many of the messages are to Ken Lay, and are from Ken Lay.\n",
    "3. Who did Lay send the most emails to?  How many did he send to this recipient?  Who did he receive the most from? How many did he receive from this sender?\n",
    "4. Did the volume of emails _sent_ by Lay increase or decrease after Enron filed for bankruptcy?  How many did he send before the filing?  How many, after?\n",
    "5. How many of the email messages in 4., above, mention Arthur Andersen, Enron's accounting firm?\n"
   ]
  },
  {
   "cell_type": "markdown",
   "metadata": {},
   "source": [
    "## Your Deliverables"
   ]
  },
  {
   "cell_type": "markdown",
   "metadata": {},
   "source": [
    "In six (6) pages or less in a pdf file, but in _no more than six pages_, address each of the items, above. Include your code (documented and syntactically correct, of course), and any results indicated.  Make sure your content is readable.  Don't forget to organize by providng for each part both code and results. For example, do 1. by providing your code and then the requested results, then do 2. with code and results, and so on.  Do _not_ first provide all of your code, and after all of the required results. \n",
    "\n",
    "Be prepared to share your code and results."
   ]
  }
 ],
 "metadata": {
  "anaconda-cloud": {},
  "kernelspec": {
   "display_name": "Python 2",
   "language": "python",
   "name": "python2"
  },
  "language_info": {
   "codemirror_mode": {
    "name": "ipython",
    "version": 2
   },
   "file_extension": ".py",
   "mimetype": "text/x-python",
   "name": "python",
   "nbconvert_exporter": "python",
   "pygments_lexer": "ipython2",
   "version": "2.7.13"
  },
  "latex_envs": {
   "LaTeX_envs_menu_present": true,
   "autocomplete": true,
   "bibliofile": "biblio.bib",
   "cite_by": "apalike",
   "current_citInitial": 1,
   "eqLabelWithNumbers": true,
   "eqNumInitial": 1,
   "hotkeys": {
    "equation": "Ctrl-E",
    "itemize": "Ctrl-I"
   },
   "labels_anchors": false,
   "latex_user_defs": false,
   "report_style_numbering": false,
   "user_envs_cfg": false
  }
 },
 "nbformat": 4,
 "nbformat_minor": 1
}
